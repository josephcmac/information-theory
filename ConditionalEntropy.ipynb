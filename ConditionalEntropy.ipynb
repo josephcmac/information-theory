{
 "cells": [
  {
   "cell_type": "markdown",
   "metadata": {},
   "source": [
    "# Conditional Entropy"
   ]
  },
  {
   "cell_type": "code",
   "execution_count": 1,
   "metadata": {},
   "outputs": [],
   "source": [
    "import random\n",
    "random.seed()"
   ]
  },
  {
   "cell_type": "raw",
   "metadata": {},
   "source": [
    "Situation described in section 2.2 of the mini-course:\n",
    "Witten, Edward. \"A mini-introduction to information theory.\" arXiv preprint arXiv:1805.11965 (2018)."
   ]
  },
  {
   "cell_type": "code",
   "execution_count": 2,
   "metadata": {},
   "outputs": [
    {
     "name": "stdout",
     "output_type": "stream",
     "text": [
      "[[0.3, 0.6, 0.1], [0.4, 0.2, 0.5], [0.3, 0.2, 0.4]]\n"
     ]
    }
   ],
   "source": [
    "f_input_prob = open(\"input_prob.txt\", \"r\")\n",
    "P = [];\n",
    "P = [[float (y) for y in x] for x in [line.split() for line in f_input_prob]];\n",
    "# doubly stochastic matrix, where P[i][j] is the probability that Bob confuses\n",
    "# the character i sent by Alice with the character j.\n",
    "print(P)\n",
    "f_input_prob.close()\n",
    "del f_input_prob"
   ]
  },
  {
   "cell_type": "code",
   "execution_count": 3,
   "metadata": {},
   "outputs": [
    {
     "name": "stdout",
     "output_type": "stream",
     "text": [
      "[0, 1, 1, 1, 1, 1, 0, 0, 1, 0, 0, 0, 1, 1, 2, 1, 1, 2, 1, 0, 1, 0, 1, 1, 1, 1, 1, 1, 0, 0]\n"
     ]
    }
   ],
   "source": [
    "f_input_Alice = open(\"input_Alice.txt\", \"r\")\n",
    "m_Alice = [int(x) for x in [line.split() for line in f_input_Alice][0]];\n",
    "# the message sent by Alice is a sequence in the alphabet 0, 1, 2, 3, ..., n-1, where n \n",
    "# is the number of rows in the matrix P.\n",
    "print(m_Alice)\n",
    "f_input_Alice.close()\n",
    "del f_input_Alice"
   ]
  },
  {
   "cell_type": "code",
   "execution_count": 4,
   "metadata": {},
   "outputs": [],
   "source": [
    "def f(i):\n",
    "    alpha = random.uniform(0,1)\n",
    "    j = 0\n",
    "    s = 0\n",
    "    while s < alpha:\n",
    "        s = s + P[i][j]\n",
    "        j = j + 1\n",
    "    return j-1"
   ]
  },
  {
   "cell_type": "code",
   "execution_count": 5,
   "metadata": {},
   "outputs": [
    {
     "name": "stdout",
     "output_type": "stream",
     "text": [
      "[1, 1, 2, 1, 1, 0, 1, 1, 1, 0, 1, 1, 1, 2, 2, 0, 1, 2, 0, 1, 0, 1, 1, 0, 2, 2, 2, 1, 0, 1]\n"
     ]
    }
   ],
   "source": [
    "# Message receibed by Bob\n",
    "m_Bob = [f(x) for x in m_Alice]\n",
    "print (m_Bob)"
   ]
  },
  {
   "cell_type": "code",
   "execution_count": 6,
   "metadata": {},
   "outputs": [],
   "source": [
    "f_output_Bob = open(\"output_Bob.txt\", \"w+\")\n",
    "for x in m_Bob:\n",
    "    f_output_Bob.write(str(x) + \" \")\n",
    "f_output_Bob.close()\n",
    "del f_output_Bob"
   ]
  },
  {
   "cell_type": "code",
   "execution_count": null,
   "metadata": {},
   "outputs": [],
   "source": []
  },
  {
   "cell_type": "code",
   "execution_count": null,
   "metadata": {},
   "outputs": [],
   "source": []
  }
 ],
 "metadata": {
  "kernelspec": {
   "display_name": "Python 3",
   "language": "python",
   "name": "python3"
  },
  "language_info": {
   "codemirror_mode": {
    "name": "ipython",
    "version": 3
   },
   "file_extension": ".py",
   "mimetype": "text/x-python",
   "name": "python",
   "nbconvert_exporter": "python",
   "pygments_lexer": "ipython3",
   "version": "3.7.3"
  }
 },
 "nbformat": 4,
 "nbformat_minor": 2
}
